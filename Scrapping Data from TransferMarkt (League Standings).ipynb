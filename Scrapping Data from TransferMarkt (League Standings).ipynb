{
 "cells": [
  {
   "cell_type": "markdown",
   "id": "9fcc3527",
   "metadata": {},
   "source": [
    "# Goals\n",
    "\n",
    "- Scrap transfermarket webpage for the market value of Premier League and Championship teams over the last 10 years\n",
    "- Analyze the evolution of the market value\n",
    "- Study the correlation between market value and final league standings. Identify which teams underperformed and overperformed."
   ]
  },
  {
   "cell_type": "code",
   "execution_count": 1,
   "id": "3e9c2e37",
   "metadata": {},
   "outputs": [],
   "source": [
    "from tqdm.notebook import tqdm"
   ]
  },
  {
   "cell_type": "code",
   "execution_count": 2,
   "id": "5986cde7",
   "metadata": {},
   "outputs": [],
   "source": [
    "import requests\n",
    "from bs4 import BeautifulSoup"
   ]
  },
  {
   "cell_type": "code",
   "execution_count": 3,
   "id": "8268a659",
   "metadata": {},
   "outputs": [],
   "source": [
    "import pandas as pd\n",
    "import numpy as np\n",
    "import matplotlib.pyplot as plt"
   ]
  },
  {
   "cell_type": "code",
   "execution_count": 6,
   "id": "406ef145",
   "metadata": {},
   "outputs": [
    {
     "data": {
      "application/vnd.jupyter.widget-view+json": {
       "model_id": "963cdfb6c9b7453f9d8a5d6747ed5e29",
       "version_major": 2,
       "version_minor": 0
      },
      "text/plain": [
       "Year:   0%|          | 0/13 [00:00<?, ?it/s]"
      ]
     },
     "metadata": {},
     "output_type": "display_data"
    }
   ],
   "source": [
    "df = {}\n",
    "for year in tqdm(range(2010,2023), desc=\"Year\"):\n",
    "    headers = {'User-Agent': \n",
    "               'Mozilla/5.0 (X11; Linux x86_64) AppleWebKit/537.36 (KHTML, like Gecko) Chrome/47.0.2526.106 Safari/537.36'}\n",
    "\n",
    "    page = f'https://www.transfermarkt.com/premier-league/tabelle/wettbewerb/GB1/saison_id/{year}'\n",
    "    pageTree = requests.get(page, headers=headers)\n",
    "    pageSoup = BeautifulSoup(pageTree.content, 'html.parser')\n",
    "\n",
    "    teams = pageSoup.find_all(\"td\", {\"class\": \"no-border-links hauptlink\"})\n",
    "    stats = pageSoup.find_all(\"td\", {\"class\": \"zentriert\"})\n",
    "    entries = []\n",
    "    for i in range(20):\n",
    "        team_name = teams[i].get_text(strip=True)\n",
    "        games = int(stats[1+8*i].text) # games\n",
    "        wins = int(stats[2+8*i].text) # wins\n",
    "        draws = int(stats[3+8*i].text) # draws\n",
    "        losses = int(stats[4+8*i].text) # losses\n",
    "        goals = stats[5+8*i].text # goals\n",
    "        goals_for, goals_against = goals.split(':')\n",
    "        plusminus = int(stats[6+8*i].text) # +-\n",
    "        points = int(stats[7+8*i].text) # points\n",
    "        entries.append((team_name, games, wins, draws, losses, goals_for, goals_against, plusminus, points))\n",
    "    df[year] = pd.DataFrame(entries, columns=['Team', 'Games', 'Wins', 'Draws', 'Losses', 'GF', 'GA', '+/-', 'Pts'])"
   ]
  },
  {
   "cell_type": "code",
   "execution_count": 7,
   "id": "8022d6f8",
   "metadata": {},
   "outputs": [],
   "source": [
    "for year in range(2010,2023):\n",
    "    p1 = str(year)[-2:]\n",
    "    p2 = str(year+1)[-2:]\n",
    "    df[year].to_csv(f'raw_data/transfermarkt/premier_league{p1}-{p2}.csv', index=False)"
   ]
  },
  {
   "cell_type": "code",
   "execution_count": null,
   "id": "1a87a6e2",
   "metadata": {},
   "outputs": [],
   "source": []
  },
  {
   "cell_type": "code",
   "execution_count": null,
   "id": "0f684697",
   "metadata": {},
   "outputs": [],
   "source": []
  }
 ],
 "metadata": {
  "kernelspec": {
   "display_name": "Python 3 (ipykernel)",
   "language": "python",
   "name": "python3"
  },
  "language_info": {
   "codemirror_mode": {
    "name": "ipython",
    "version": 3
   },
   "file_extension": ".py",
   "mimetype": "text/x-python",
   "name": "python",
   "nbconvert_exporter": "python",
   "pygments_lexer": "ipython3",
   "version": "3.10.6"
  }
 },
 "nbformat": 4,
 "nbformat_minor": 5
}
