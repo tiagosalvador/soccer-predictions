{
 "cells": [
  {
   "cell_type": "markdown",
   "id": "89f47110",
   "metadata": {},
   "source": [
    "# Goals\n",
    "\n",
    "- Scrap transfermarket webpage for the market value of Premier League and Championship teams over the last 10 years\n",
    "- Analyze the evolution of the market value\n",
    "- Study the correlation between market value and final league standings. Identify which teams underperformed and overperformed."
   ]
  },
  {
   "cell_type": "code",
   "execution_count": 1,
   "id": "3902508f",
   "metadata": {},
   "outputs": [],
   "source": [
    "from tqdm.notebook import tqdm"
   ]
  },
  {
   "cell_type": "code",
   "execution_count": 2,
   "id": "96b6782b",
   "metadata": {},
   "outputs": [],
   "source": [
    "import requests\n",
    "from bs4 import BeautifulSoup"
   ]
  },
  {
   "cell_type": "code",
   "execution_count": 3,
   "id": "0810ef4d",
   "metadata": {},
   "outputs": [],
   "source": [
    "import pandas as pd\n",
    "import numpy as np\n",
    "import matplotlib.pyplot as plt"
   ]
  },
  {
   "cell_type": "markdown",
   "id": "221a05bf",
   "metadata": {},
   "source": [
    "First we look for at which dates the TransferMarket Value (TMValue) is available. A quick glance first suggested the data is available every 1st and 15th of every month since 2010-10-01, however there are (at least) some inconsistencies in 2014."
   ]
  },
  {
   "cell_type": "code",
   "execution_count": 4,
   "id": "c19dc528",
   "metadata": {},
   "outputs": [],
   "source": [
    "dates_available = []\n",
    "headers = {'User-Agent': \n",
    "           'Mozilla/5.0 (X11; Linux x86_64) AppleWebKit/537.36 (KHTML, like Gecko) Chrome/47.0.2526.106 Safari/537.36'}\n",
    "\n",
    "page = 'https://www.transfermarkt.com/premier-league/marktwerteverein/wettbewerb/GB1/plus/?stichtag=2022-09-01'\n",
    "pageTree = requests.get(page, headers=headers)\n",
    "pageSoup = BeautifulSoup(pageTree.content, 'html.parser')\n",
    "for i in range(len(pageSoup.find_all(\"option\"))):\n",
    "    dates_available.append(pageSoup.find_all(\"option\")[i].get('value'))"
   ]
  },
  {
   "cell_type": "markdown",
   "id": "f5f3f3e4",
   "metadata": {},
   "source": [
    "Now that we have the dates for which data is available, we scrap the data. A limitation from the data here is that the data is gathered from the teams currently in the Premier League, Championship and League One. If at the time the search is done a team, previously in Premier League is no longer in either of these leagues, no data will be gathered. Since we are interested in forecasting teams in the Premier League based on data from the past few years this will hopefully capture the TMValue for all teams we need."
   ]
  },
  {
   "cell_type": "code",
   "execution_count": 5,
   "id": "600cf819",
   "metadata": {},
   "outputs": [
    {
     "data": {
      "application/vnd.jupyter.widget-view+json": {
       "model_id": "d542f9bb764e4586aa67371f696b946a",
       "version_major": 2,
       "version_minor": 0
      },
      "text/plain": [
       "Dates:   0%|          | 0/277 [00:00<?, ?it/s]"
      ]
     },
     "metadata": {},
     "output_type": "display_data"
    }
   ],
   "source": [
    "# Links to the webpages for the Premier League and Championship\n",
    "links = {\n",
    "    'premierleague': lambda date: f'https://www.transfermarkt.com/premier-league/marktwerteverein/wettbewerb/GB1/plus/?stichtag={date}',\n",
    "    'championship': lambda date: f'https://www.transfermarkt.com/championship/marktwerteverein/wettbewerb/GB2/plus/?stichtag={date}',\n",
    "    'leagueone': lambda date: f'https://www.transfermarkt.com/league-one/marktwerteverein/wettbewerb/GB3/plus/?stichtag={date}'\n",
    "}\n",
    "\n",
    "# The code to scrap the data was inspired by https://fcpython.com/blog/introduction-scraping-data-transfermarkt\n",
    "entries = []\n",
    "for date in tqdm(dates_available, desc='Dates'):\n",
    "    for league in links:\n",
    "        headers = {'User-Agent': \n",
    "                   'Mozilla/5.0 (X11; Linux x86_64) AppleWebKit/537.36 (KHTML, like Gecko) Chrome/47.0.2526.106 Safari/537.36'}\n",
    "\n",
    "        page = links[league](date)\n",
    "        pageTree = requests.get(page, headers=headers)\n",
    "        pageSoup = BeautifulSoup(pageTree.content, 'html.parser')\n",
    "        Clubs = pageSoup.find_all(\"td\", {\"class\": \"hauptlink no-border-links\"})\n",
    "        TMValues = pageSoup.find_all(\"td\", {\"class\": \"rechts\"})\n",
    "\n",
    "        for i in range(len(Clubs)):\n",
    "            club_name = Clubs[i].text\n",
    "            tmvalue_string = TMValues[3+i*3].text[1:]\n",
    "            if 'bn' in tmvalue_string:\n",
    "                tmvalue = float(tmvalue_string[:-2])*1000\n",
    "            elif 'm' in tmvalue_string:\n",
    "                tmvalue = float(tmvalue_string[:-1])\n",
    "            entries.append((date, club_name, tmvalue))"
   ]
  },
  {
   "cell_type": "code",
   "execution_count": 6,
   "id": "e9662a74",
   "metadata": {},
   "outputs": [],
   "source": [
    "df = pd.DataFrame(entries, columns=['Date', 'Team', 'TMValue'])"
   ]
  },
  {
   "cell_type": "code",
   "execution_count": 9,
   "id": "2430a0f2",
   "metadata": {},
   "outputs": [],
   "source": [
    "df['Date'] = pd.to_datetime(df['Date'], format=\"%Y-%m-%d\")"
   ]
  },
  {
   "cell_type": "code",
   "execution_count": 11,
   "id": "4e68f690",
   "metadata": {},
   "outputs": [],
   "source": [
    "df.to_csv('raw_data/transfermarkt/TMValueEngland.csv', index=False)"
   ]
  },
  {
   "cell_type": "code",
   "execution_count": 12,
   "id": "ae1b1886",
   "metadata": {},
   "outputs": [
    {
     "data": {
      "text/plain": [
       "[<matplotlib.lines.Line2D at 0x7fc6a4cc32b0>]"
      ]
     },
     "execution_count": 12,
     "metadata": {},
     "output_type": "execute_result"
    },
    {
     "data": {
      "image/png": "[encoded data removed]",
      "text/plain": [
       "<Figure size 640x480 with 1 Axes>"
      ]
     },
     "metadata": {},
     "output_type": "display_data"
    }
   ],
   "source": [
    "plt.plot(df.groupby('Date').mean().index, df.groupby('Date').mean()['TMValue'].values,'.-')"
   ]
  },
  {
   "cell_type": "markdown",
   "id": "cd3a5b4a",
   "metadata": {},
   "source": [
    "The significant drop seen in the graph between the period 2020-04-01 and 2020-04-15 is the result of the COVID19 pandemic. \"Transfermarkt [...] reacted to the exceptional situation with the unprecedented step of making a global market value cut of 20% – players born in 1998 or later will be downgraded by 10%.\"\n",
    "\n",
    "Source: https://www.transfermarkt.us/reaction-to-corona-majority-of-players-downgraded-loss-of-over-euro-9-billion-worldwide/view/news/358336"
   ]
  },
  {
   "cell_type": "code",
   "execution_count": null,
   "id": "0d0bb5a8",
   "metadata": {},
   "outputs": [],
   "source": []
  }
 ],
 "metadata": {
  "kernelspec": {
   "display_name": "Python 3 (ipykernel)",
   "language": "python",
   "name": "python3"
  },
  "language_info": {
   "codemirror_mode": {
    "name": "ipython",
    "version": 3
   },
   "file_extension": ".py",
   "mimetype": "text/x-python",
   "name": "python",
   "nbconvert_exporter": "python",
   "pygments_lexer": "ipython3",
   "version": "3.10.6"
  }
 },
 "nbformat": 4,
 "nbformat_minor": 5
}
