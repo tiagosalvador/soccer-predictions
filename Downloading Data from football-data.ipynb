{
 "cells": [
  {
   "cell_type": "code",
   "execution_count": 10,
   "id": "b807b963",
   "metadata": {
    "scrolled": true
   },
   "outputs": [],
   "source": [
    "import os\n",
    "import wget"
   ]
  },
  {
   "cell_type": "code",
   "execution_count": 11,
   "id": "6ecb296e",
   "metadata": {},
   "outputs": [],
   "source": [
    "path_data = 'raw_data/football-data'"
   ]
  },
  {
   "cell_type": "code",
   "execution_count": 12,
   "id": "8109e54d",
   "metadata": {},
   "outputs": [],
   "source": [
    "os.makedirs(path_data, exist_ok=True)"
   ]
  },
  {
   "cell_type": "code",
   "execution_count": 13,
   "id": "81008c81",
   "metadata": {},
   "outputs": [
    {
     "name": "stdout",
     "output_type": "stream",
     "text": [
      "100% [........................................................] 175360 / 175360"
     ]
    }
   ],
   "source": [
    "for year in range(2010,2022):\n",
    "    p1 = str(year)[-2:]\n",
    "    p2 = str(year+1)[-2:]\n",
    "    url = f'https://www.football-data.co.uk/mmz4281/{p1}{p2}/E0.csv'\n",
    "    filename = f'EPL Games {p1}-{p2}.csv'    \n",
    "    os.filename = wget.download(url, out=os.path.join(path_data, filename))"
   ]
  }
 ],
 "metadata": {
  "kernelspec": {
   "display_name": "Python 3 (ipykernel)",
   "language": "python",
   "name": "python3"
  },
  "language_info": {
   "codemirror_mode": {
    "name": "ipython",
    "version": 3
   },
   "file_extension": ".py",
   "mimetype": "text/x-python",
   "name": "python",
   "nbconvert_exporter": "python",
   "pygments_lexer": "ipython3",
   "version": "3.10.6"
  }
 },
 "nbformat": 4,
 "nbformat_minor": 5
}
