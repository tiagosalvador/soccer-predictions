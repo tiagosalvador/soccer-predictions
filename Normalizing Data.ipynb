{
 "cells": [
  {
   "cell_type": "code",
   "execution_count": 41,
   "id": "611e39ac",
   "metadata": {},
   "outputs": [],
   "source": [
    "import os\n",
    "import pandas as pd\n",
    "import numpy as np\n",
    "import nltk\n",
    "from tqdm.notebook import tqdm\n",
    "from datetime import datetime"
   ]
  },
  {
   "cell_type": "code",
   "execution_count": 42,
   "id": "ead055eb",
   "metadata": {},
   "outputs": [],
   "source": [
    "df_standings = {}\n",
    "for year in range(2010,2023):\n",
    "    p1 = str(year)[-2:]\n",
    "    p2 = str(year+1)[-2:]\n",
    "    df_standings[year] = pd.read_csv(f'raw_data/transfermarkt/premier_league{p1}-{p2}.csv')"
   ]
  },
  {
   "cell_type": "code",
   "execution_count": 43,
   "id": "823bc6aa",
   "metadata": {},
   "outputs": [],
   "source": [
    "df_games = {}\n",
    "for year in range(2010,2022):\n",
    "    p1 = str(year)[-2:]\n",
    "    p2 = str(year+1)[-2:]\n",
    "    df_games[year] = pd.read_csv(f'raw_data/football-data/EPL Games {p1}-{p2}.csv').dropna()"
   ]
  },
  {
   "cell_type": "code",
   "execution_count": 44,
   "id": "dcd56c8d",
   "metadata": {},
   "outputs": [],
   "source": [
    "df_TM = pd.read_csv('raw_data/transfermarkt/TMValueEngland.csv')"
   ]
  },
  {
   "cell_type": "markdown",
   "id": "d937f41f",
   "metadata": {},
   "source": [
    "There is an inconsistency in the team names. We could create a teamid for each team and add it to each table, but instead we will normalize the team names across the different tables. Since the table with TMValue has the most teams and their complete names, we will use it as a reference."
   ]
  },
  {
   "cell_type": "code",
   "execution_count": 45,
   "id": "498e76a2",
   "metadata": {},
   "outputs": [],
   "source": [
    "teams_TM = np.unique(df_TM['Team'])"
   ]
  },
  {
   "cell_type": "code",
   "execution_count": 46,
   "id": "cbad94eb",
   "metadata": {},
   "outputs": [],
   "source": [
    "teams_standings = np.unique(np.concatenate([df_standings[year]['Team'] for year in range(2010,2023)]))"
   ]
  },
  {
   "cell_type": "code",
   "execution_count": 47,
   "id": "6e8556b4",
   "metadata": {},
   "outputs": [],
   "source": [
    "teams_games = np.unique(np.concatenate([df_games[year]['HomeTeam'] for year in range(2010,2022)]))"
   ]
  },
  {
   "cell_type": "markdown",
   "id": "36d70d97",
   "metadata": {},
   "source": [
    "In order to find the matches we wrote a simple code to compare the strings. Given teamA and teamB, a match is found if teamA is a substring of teamB or the characters of teamA form a subset of the characters of teamB. Otherwise, we find the match based on the Levenshtein distance. This works for all team names, except for Tottenham, so we just hardcode that exception."
   ]
  },
  {
   "cell_type": "code",
   "execution_count": 48,
   "id": "412069d1",
   "metadata": {
    "scrolled": false
   },
   "outputs": [],
   "source": [
    "def get_dict_map(teamsA, teamsB):\n",
    "    dict_map = {}\n",
    "    for teamA in teamsA:\n",
    "        best_distance = 1000\n",
    "        for teamB in teamsB:\n",
    "            if teamA in teamB:\n",
    "                answer = teamB\n",
    "                break\n",
    "            if set(teamA).issubset(set(teamB)):\n",
    "                answer = teamB\n",
    "            temp_distance = nltk.edit_distance(teamA, teamB, transpositions=True)\n",
    "            if temp_distance<best_distance:\n",
    "                best_distance = temp_distance\n",
    "                answer = teamB\n",
    "        if teamA == 'Spurs':\n",
    "            dict_map[teamA] = 'Tottenham Hotspur'\n",
    "        else:\n",
    "            dict_map[teamA] = answer\n",
    "    return dict_map"
   ]
  },
  {
   "cell_type": "markdown",
   "id": "b788df45",
   "metadata": {},
   "source": [
    "We will store the new tables in the data directory."
   ]
  },
  {
   "cell_type": "code",
   "execution_count": 49,
   "id": "1f19500c",
   "metadata": {},
   "outputs": [],
   "source": [
    "os.makedirs('data', exist_ok=True)"
   ]
  },
  {
   "cell_type": "code",
   "execution_count": 50,
   "id": "26a3200b",
   "metadata": {},
   "outputs": [],
   "source": [
    "for year in range(2010,2023):\n",
    "    p1 = str(year)[-2:]\n",
    "    p2 = str(year+1)[-2:]\n",
    "    df_standings[year].replace({'Team': get_dict_map(teams_standings, teams_TM)}, inplace=True)\n",
    "    df_standings[year].to_csv(f'data/premier_league{p1}-{p2}.csv', index=False)"
   ]
  },
  {
   "cell_type": "code",
   "execution_count": 51,
   "id": "3972c3c0",
   "metadata": {},
   "outputs": [],
   "source": [
    "for year in range(2010,2022):\n",
    "    p1 = str(year)[-2:]\n",
    "    p2 = str(year+1)[-2:]\n",
    "    df_games[year].replace({'HomeTeam': get_dict_map(teams_games, teams_TM)}, inplace=True)\n",
    "    df_games[year].replace({'AwayTeam': get_dict_map(teams_games, teams_TM)}, inplace=True)\n",
    "    if year in [2015, 2017, 2018, 2019, 2020, 2021]:\n",
    "        df_games[year]['Date'] = pd.to_datetime(df_games[year]['Date'], format=\"%d/%m/%Y\")\n",
    "    else:\n",
    "        df_games[year]['Date'] = pd.to_datetime(df_games[year]['Date'], format=\"%d/%m/%y\")\n",
    "    df_games[year].to_csv(f'data/EPL Games {p1}-{p2}.csv', index=False)"
   ]
  },
  {
   "cell_type": "code",
   "execution_count": 52,
   "id": "5d4cc6fa",
   "metadata": {},
   "outputs": [],
   "source": [
    "df_TM['Date'] = pd.to_datetime(df_TM['Date'])\n",
    "df_TM.to_csv('data/TMValueEngland.csv', index=False)"
   ]
  },
  {
   "cell_type": "markdown",
   "id": "629b2b23",
   "metadata": {},
   "source": [
    "Notice that in the above code, we also convert the date from a string to a timestamp. This makes it easier to compare dates and determine the TMValue for each team at each game. We determine the TMValue based on the most recent known value at the time of the game and also at the beginning of the season."
   ]
  },
  {
   "cell_type": "code",
   "execution_count": 53,
   "id": "689e3c4d",
   "metadata": {},
   "outputs": [],
   "source": [
    "def add_TMValue(games: pd.DataFrame, dfTMValues: pd.DataFrame, team_key: str, new_key: str):\n",
    "    entries = []\n",
    "    for i in range(len(games)):\n",
    "        date1 = games.iloc[i]['Date']\n",
    "        diff_days = np.Inf\n",
    "        closest_date = None\n",
    "        TMValue = None\n",
    "        df_temp = dfTMValues[dfTMValues['Team'] == games.iloc[i][team_key]]\n",
    "        for j in range(len(df_temp)):\n",
    "            date2 = df_temp.iloc[j]['Date']\n",
    "            time_interval = date1-date2 \n",
    "            if date2 < date1:\n",
    "                if time_interval.days < diff_days:\n",
    "                    diff_days = time_interval.days\n",
    "                    closest_date = date2\n",
    "                    TMValue = df_temp.iloc[j]['TMValue']\n",
    "        entries.append(TMValue)\n",
    "    games[new_key] = entries\n",
    "    return games\n",
    "\n",
    "def add_TMValue_beginning(games: pd.DataFrame, dfTMValues: pd.DataFrame, team_key: str, new_key: str):\n",
    "    team_names = np.unique(games['HomeTeam'])\n",
    "    map_tm_value = {}\n",
    "    for name in team_names:\n",
    "        date1 = min(games['Date'])\n",
    "        diff_days = np.Inf\n",
    "        closest_date = None\n",
    "        TMValue = None\n",
    "        df_temp = dfTMValues[dfTMValues['Team'] == name]\n",
    "        for j in range(len(df_temp)):\n",
    "            date2 = df_temp.iloc[j]['Date']\n",
    "            time_interval = date1-date2 \n",
    "            if date2 < date1:\n",
    "                if time_interval.days < diff_days:\n",
    "                    diff_days = time_interval.days\n",
    "                    closest_date = date2\n",
    "                    TMValue = df_temp.iloc[j]['TMValue']\n",
    "        map_tm_value[name] = TMValue\n",
    "    entries = []\n",
    "    for i in range(len(games)):\n",
    "        entries.append(map_tm_value[games.iloc[i][team_key]])\n",
    "    games[new_key] = entries\n",
    "    return games"
   ]
  },
  {
   "cell_type": "code",
   "execution_count": 54,
   "id": "eebba18d",
   "metadata": {},
   "outputs": [
    {
     "data": {
      "application/vnd.jupyter.widget-view+json": {
       "model_id": "609c00715d0542179861a891f6045477",
       "version_major": 2,
       "version_minor": 0
      },
      "text/plain": [
       "Year:   0%|          | 0/12 [00:00<?, ?it/s]"
      ]
     },
     "metadata": {},
     "output_type": "display_data"
    }
   ],
   "source": [
    "for year in tqdm(range(2010,2022), desc='Year'):\n",
    "    p1 = str(year)[-2:]\n",
    "    p2 = str(year+1)[-2:]\n",
    "    df_games[year] = add_TMValue(df_games[year], df_TM, 'HomeTeam', 'HTMValue')\n",
    "    df_games[year] = add_TMValue(df_games[year], df_TM, 'AwayTeam', 'ATMValue')\n",
    "    df_games[year] = add_TMValue_beginning(df_games[year], df_TM, 'HomeTeam', 'HTMValueSeason')\n",
    "    df_games[year] = add_TMValue_beginning(df_games[year], df_TM, 'AwayTeam', 'ATMValueSeason')\n",
    "    df_games[year].to_csv(f'data/EPL Games {p1}-{p2}.csv', index=False)"
   ]
  },
  {
   "cell_type": "code",
   "execution_count": null,
   "id": "2d2a197d",
   "metadata": {},
   "outputs": [],
   "source": []
  },
  {
   "cell_type": "code",
   "execution_count": null,
   "id": "de926851",
   "metadata": {},
   "outputs": [],
   "source": []
  }
 ],
 "metadata": {
  "kernelspec": {
   "display_name": "Python 3 (ipykernel)",
   "language": "python",
   "name": "python3"
  },
  "language_info": {
   "codemirror_mode": {
    "name": "ipython",
    "version": 3
   },
   "file_extension": ".py",
   "mimetype": "text/x-python",
   "name": "python",
   "nbconvert_exporter": "python",
   "pygments_lexer": "ipython3",
   "version": "3.10.6"
  }
 },
 "nbformat": 4,
 "nbformat_minor": 5
}
